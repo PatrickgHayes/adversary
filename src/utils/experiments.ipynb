{
 "cells": [
  {
   "cell_type": "code",
   "execution_count": 11,
   "metadata": {
    "collapsed": false
   },
   "outputs": [],
   "source": [
    "''' \n",
    "this conda script will call other scripts to do the follow tasks\n",
    "\n",
    "(1) have a function to load the control test set images\n",
    "(2) have a function to load the universally perturbed test set images\n",
    "(3) have a function to grab the other holdout training images\n",
    "(4) train an autoencoder with the holdout training images\n",
    "(5) have a function for testing a network on any input and output\n",
    "\n",
    "'''\n",
    "\n",
    "import numpy\n",
    "import scipy\n",
    "from scipy import ndimage\n",
    "from os.path import expanduser\n",
    "import tensorflow as tf\n",
    "from PIL import Image\n",
    "import cPickle as pickle\n",
    "import os\n",
    "import glob\n",
    "from numpy import random\n",
    "import matplotlib.pyplot as plt\n",
    "\n",
    "import sys\n",
    "sys.path.insert(0, expanduser('~/adversary/src/models'))\n",
    "sys.path.insert(0, expanduser('~/TensorFlow-Tutorials'))\n",
    "\n",
    "\n",
    "import tf_builder\n",
    "import cifar10_load\n",
    "import tf_utils"
   ]
  },
  {
   "cell_type": "code",
   "execution_count": 24,
   "metadata": {
    "collapsed": false
   },
   "outputs": [],
   "source": [
    "def extractLabels(filename):\n",
    "    labels = open(expanduser(filename));\n",
    "    labels_list = [];\n",
    "    for label in labels:\n",
    "        labels_list.append(int(label[:-1])-1);\n",
    "    return labels_list\n",
    "\n",
    "def extractData(directoryname):\n",
    "    \n",
    "    # size of image dataset\n",
    "    num_images = len(glob.glob1(expanduser(directoryname),\"*.JPEG\"))\n",
    "    # return numpy image array\n",
    "    images = []\n",
    "    images_names = []\n",
    "    \n",
    "    # for each image in directory, grab and crop and save to pickle\n",
    "    for imagefile in os.listdir(expanduser(directoryname)):\n",
    "        if(imagefile[-4:] == 'JPEG' or imagefile[-4:] == 'jpeg'):\n",
    "            image = Image.open(expanduser(directoryname + '/' + imagefile))\n",
    "            if(image.mode == 'RGB'):\n",
    "                images.append(image.copy())\n",
    "                images_names.append(imagefile)\n",
    "            else:\n",
    "                images.append(image.convert('RGB').copy())\n",
    "                images_names.append(imagefile)\n",
    "            image.close()\n",
    "    \n",
    "    return images, images_names\n",
    "\n",
    "def resizeSet(images):\n",
    "    resizedImages = [];\n",
    "    for image in images:\n",
    "        resizedImages.append(scipy.misc.imresize(image,(224,224,3), interp='bilinear'))\n",
    "    return resizedImages\n",
    "\n",
    "def listOfImagesToNumpy(imageList, labelList):\n",
    "    returnArray = numpy.zeros((len(imageList),3,224,224))\n",
    "    returnLabels = numpy.zeros((len(labelList),1000))\n",
    "    \n",
    "    for i in range(len(imageList)):\n",
    "        returnArray[i,:,:,:]=scipy.misc.imresize(numpy.asarray(imageList[i]),(224,224,3), interp='bilinear')\n",
    "        returnLabels[i,labelList[i]] = 1\n",
    "    \n",
    "    \n",
    "    return returnArray, returnLabels\n",
    "\n",
    "def loadControl():\n",
    "    pathname_data = '~/adversary/data/data_control'\n",
    "    pathname_label = '~/adversary/data/labels_control.txt'\n",
    "    \n",
    "    image_list, name_list = extractData(pathname_data)\n",
    "    label_list = extractLabels(pathname_label)\n",
    "    images = resizeSet(image_list)\n",
    "    \n",
    "    images_final, labels_final = listOfImagesToNumpy(images, label_list)\n",
    "    \n",
    "    return images_final, labels_final\n",
    "\n",
    "def loadUniversal():\n",
    "    pathname_data = '~/adversary/data/data_universal'\n",
    "    pathname_label = '~/adversary/data/labels_universal.txt'\n",
    "    \n",
    "    image_list, name_list = extractData(pathname_data)\n",
    "    label_list = extractLabels(pathname_label)\n",
    "    images = resizeSet(image_list)\n",
    "    \n",
    "    images_final, labels_final = listOfImagesToNumpy(images, label_list)\n",
    "    \n",
    "    return images_final, labels_final"
   ]
  },
  {
   "cell_type": "code",
   "execution_count": 25,
   "metadata": {
    "collapsed": false
   },
   "outputs": [
    {
     "ename": "ValueError",
     "evalue": "could not broadcast input array from shape (224,224,3) into shape (3,224,224)",
     "output_type": "error",
     "traceback": [
      "\u001b[0;31m---------------------------------------------------------------------------\u001b[0m",
      "\u001b[0;31mValueError\u001b[0m                                Traceback (most recent call last)",
      "\u001b[0;32m<ipython-input-25-abd02532da07>\u001b[0m in \u001b[0;36m<module>\u001b[0;34m()\u001b[0m\n\u001b[0;32m----> 1\u001b[0;31m \u001b[0mimage_control\u001b[0m\u001b[0;34m,\u001b[0m \u001b[0mlabel_control\u001b[0m \u001b[0;34m=\u001b[0m \u001b[0mloadControl\u001b[0m\u001b[0;34m(\u001b[0m\u001b[0;34m)\u001b[0m\u001b[0;34m\u001b[0m\u001b[0m\n\u001b[0m",
      "\u001b[0;32m<ipython-input-24-50ff069c2424>\u001b[0m in \u001b[0;36mloadControl\u001b[0;34m()\u001b[0m\n\u001b[1;32m     53\u001b[0m     \u001b[0mimages\u001b[0m \u001b[0;34m=\u001b[0m \u001b[0mresizeSet\u001b[0m\u001b[0;34m(\u001b[0m\u001b[0mimage_list\u001b[0m\u001b[0;34m)\u001b[0m\u001b[0;34m\u001b[0m\u001b[0m\n\u001b[1;32m     54\u001b[0m \u001b[0;34m\u001b[0m\u001b[0m\n\u001b[0;32m---> 55\u001b[0;31m     \u001b[0mimages_final\u001b[0m\u001b[0;34m,\u001b[0m \u001b[0mlabels_final\u001b[0m \u001b[0;34m=\u001b[0m \u001b[0mlistOfImagesToNumpy\u001b[0m\u001b[0;34m(\u001b[0m\u001b[0mimages\u001b[0m\u001b[0;34m,\u001b[0m \u001b[0mlabel_list\u001b[0m\u001b[0;34m)\u001b[0m\u001b[0;34m\u001b[0m\u001b[0m\n\u001b[0m\u001b[1;32m     56\u001b[0m \u001b[0;34m\u001b[0m\u001b[0m\n\u001b[1;32m     57\u001b[0m     \u001b[0;32mreturn\u001b[0m \u001b[0mimages_final\u001b[0m\u001b[0;34m,\u001b[0m \u001b[0mlabels_final\u001b[0m\u001b[0;34m\u001b[0m\u001b[0m\n",
      "\u001b[0;32m<ipython-input-24-50ff069c2424>\u001b[0m in \u001b[0;36mlistOfImagesToNumpy\u001b[0;34m(imageList, labelList)\u001b[0m\n\u001b[1;32m     39\u001b[0m \u001b[0;34m\u001b[0m\u001b[0m\n\u001b[1;32m     40\u001b[0m     \u001b[0;32mfor\u001b[0m \u001b[0mi\u001b[0m \u001b[0;32min\u001b[0m \u001b[0mrange\u001b[0m\u001b[0;34m(\u001b[0m\u001b[0mlen\u001b[0m\u001b[0;34m(\u001b[0m\u001b[0mimageList\u001b[0m\u001b[0;34m)\u001b[0m\u001b[0;34m)\u001b[0m\u001b[0;34m:\u001b[0m\u001b[0;34m\u001b[0m\u001b[0m\n\u001b[0;32m---> 41\u001b[0;31m         \u001b[0mreturnArray\u001b[0m\u001b[0;34m[\u001b[0m\u001b[0mi\u001b[0m\u001b[0;34m,\u001b[0m\u001b[0;34m:\u001b[0m\u001b[0;34m,\u001b[0m\u001b[0;34m:\u001b[0m\u001b[0;34m,\u001b[0m\u001b[0;34m:\u001b[0m\u001b[0;34m]\u001b[0m\u001b[0;34m=\u001b[0m\u001b[0mscipy\u001b[0m\u001b[0;34m.\u001b[0m\u001b[0mmisc\u001b[0m\u001b[0;34m.\u001b[0m\u001b[0mimresize\u001b[0m\u001b[0;34m(\u001b[0m\u001b[0mnumpy\u001b[0m\u001b[0;34m.\u001b[0m\u001b[0masarray\u001b[0m\u001b[0;34m(\u001b[0m\u001b[0mimageList\u001b[0m\u001b[0;34m[\u001b[0m\u001b[0mi\u001b[0m\u001b[0;34m]\u001b[0m\u001b[0;34m)\u001b[0m\u001b[0;34m,\u001b[0m\u001b[0;34m(\u001b[0m\u001b[0;36m224\u001b[0m\u001b[0;34m,\u001b[0m\u001b[0;36m224\u001b[0m\u001b[0;34m,\u001b[0m\u001b[0;36m3\u001b[0m\u001b[0;34m)\u001b[0m\u001b[0;34m,\u001b[0m \u001b[0minterp\u001b[0m\u001b[0;34m=\u001b[0m\u001b[0;34m'bilinear'\u001b[0m\u001b[0;34m)\u001b[0m\u001b[0;34m\u001b[0m\u001b[0m\n\u001b[0m\u001b[1;32m     42\u001b[0m         \u001b[0mreturnLabels\u001b[0m\u001b[0;34m[\u001b[0m\u001b[0mi\u001b[0m\u001b[0;34m,\u001b[0m\u001b[0mlabelList\u001b[0m\u001b[0;34m[\u001b[0m\u001b[0mi\u001b[0m\u001b[0;34m]\u001b[0m\u001b[0;34m]\u001b[0m \u001b[0;34m=\u001b[0m \u001b[0;36m1\u001b[0m\u001b[0;34m\u001b[0m\u001b[0m\n\u001b[1;32m     43\u001b[0m \u001b[0;34m\u001b[0m\u001b[0m\n",
      "\u001b[0;31mValueError\u001b[0m: could not broadcast input array from shape (224,224,3) into shape (3,224,224)"
     ]
    }
   ],
   "source": [
    "image_control, label_control = loadControl()"
   ]
  },
  {
   "cell_type": "code",
   "execution_count": 4,
   "metadata": {
    "collapsed": false
   },
   "outputs": [],
   "source": [
    "image_universal, label_universal = loadUniversal()"
   ]
  },
  {
   "cell_type": "code",
   "execution_count": 9,
   "metadata": {
    "collapsed": false
   },
   "outputs": [],
   "source": [
    "x = [image_control, label_control, image_universal, label_universal]"
   ]
  },
  {
   "cell_type": "code",
   "execution_count": null,
   "metadata": {
    "collapsed": false
   },
   "outputs": [],
   "source": []
  },
  {
   "cell_type": "code",
   "execution_count": 14,
   "metadata": {
    "collapsed": false
   },
   "outputs": [
    {
     "ename": "IOError",
     "evalue": "[Errno 9] Bad file descriptor",
     "output_type": "error",
     "traceback": [
      "\u001b[0;31m---------------------------------------------------------------------------\u001b[0m",
      "\u001b[0;31mIOError\u001b[0m                                   Traceback (most recent call last)",
      "\u001b[0;32m<ipython-input-14-40dcc4de0c89>\u001b[0m in \u001b[0;36m<module>\u001b[0;34m()\u001b[0m\n\u001b[0;32m----> 1\u001b[0;31m \u001b[0my\u001b[0m \u001b[0;34m=\u001b[0m \u001b[0mpickle\u001b[0m\u001b[0;34m.\u001b[0m\u001b[0mload\u001b[0m\u001b[0;34m(\u001b[0m\u001b[0mopen\u001b[0m\u001b[0;34m(\u001b[0m\u001b[0mexpanduser\u001b[0m\u001b[0;34m(\u001b[0m\u001b[0;34m'~/adversary/data/processed_data.pkl'\u001b[0m\u001b[0;34m)\u001b[0m\u001b[0;34m,\u001b[0m\u001b[0;34m'wb'\u001b[0m\u001b[0;34m)\u001b[0m\u001b[0;34m)\u001b[0m\u001b[0;34m\u001b[0m\u001b[0m\n\u001b[0m",
      "\u001b[0;31mIOError\u001b[0m: [Errno 9] Bad file descriptor"
     ]
    }
   ],
   "source": [
    "y = pickle.load(open(expanduser('~/adversary/data/processed_data.pkl'),'wb'))"
   ]
  },
  {
   "cell_type": "code",
   "execution_count": 21,
   "metadata": {
    "collapsed": false
   },
   "outputs": [
    {
     "data": {
      "text/plain": [
       "(5, 3, 224, 224)"
      ]
     },
     "execution_count": 21,
     "metadata": {},
     "output_type": "execute_result"
    }
   ],
   "source": [
    "numpy.shape(image_control[0:5])"
   ]
  },
  {
   "cell_type": "code",
   "execution_count": null,
   "metadata": {
    "collapsed": false
   },
   "outputs": [],
   "source": []
  },
  {
   "cell_type": "code",
   "execution_count": null,
   "metadata": {
    "collapsed": true
   },
   "outputs": [],
   "source": []
  }
 ],
 "metadata": {
  "anaconda-cloud": {},
  "kernelspec": {
   "display_name": "Python [conda root]",
   "language": "python",
   "name": "conda-root-py"
  },
  "language_info": {
   "codemirror_mode": {
    "name": "ipython",
    "version": 2
   },
   "file_extension": ".py",
   "mimetype": "text/x-python",
   "name": "python",
   "nbconvert_exporter": "python",
   "pygments_lexer": "ipython2",
   "version": "2.7.12"
  }
 },
 "nbformat": 4,
 "nbformat_minor": 1
}
