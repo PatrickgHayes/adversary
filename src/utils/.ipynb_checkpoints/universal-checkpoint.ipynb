{
 "cells": [
  {
   "cell_type": "code",
   "execution_count": 7,
   "metadata": {
    "collapsed": false
   },
   "outputs": [
    {
     "name": "stderr",
     "output_type": "stream",
     "text": [
      "Using Theano backend.\n",
      "Using gpu device 0: GeForce GTX 1080 (CNMeM is disabled, cuDNN 5105)\n",
      "/home/davis/anaconda2/lib/python2.7/site-packages/theano/sandbox/cuda/__init__.py:600: UserWarning: Your cuDNN version is more recent than the one Theano officially supports. If you see any problems, try updating Theano or downgrading cuDNN to version 5.\n",
      "  warnings.warn(warn)\n"
     ]
    }
   ],
   "source": [
    "from os.path import expanduser\n",
    "import numpy\n",
    "import scipy\n",
    "import tensorflow as tf\n",
    "from scipy.io import loadmat\n",
    "import os\n",
    "from keras.datasets import cifar10\n",
    "import matplotlib.pyplot as plt\n",
    "from PIL import Image\n",
    "%matplotlib inline"
   ]
  },
  {
   "cell_type": "code",
   "execution_count": 17,
   "metadata": {
    "collapsed": false
   },
   "outputs": [],
   "source": [
    "def get_precomputed_universal_perturbations(path_to_dir):\n",
    "    universal=[]\n",
    "    for filename in os.listdir(expanduser(path_to_dir)):\n",
    "        if filename[-4:] == '.mat':\n",
    "            universal.append(loadmat(expanduser(path_to_dir+str(filename)))['r'])\n",
    "    return universal\n",
    "\n",
    "def generate_universal_adversarial_images(data, perturbation, imshape):\n",
    "    if(len(imshape)!= 3): return \n",
    "    perturbed_images = numpy.zeros((len(data),imshape[0],imshape[1],imshape[2]))\n",
    "    for i in range(len(data)):\n",
    "        currImage = scipy.misc.imresize(data[i,:,:,:],imshape)\n",
    "        perturbed_images[i,:,:,:] = perturbation*1.0 + currImage*1.0\n",
    "    return perturbed_images\n",
    "        \n",
    "def load_cifar():\n",
    "    (X_train, y_train), (X_test, y_test) = cifar10.load_data()\n",
    "    X_train = X_train.transpose(0,2,3,1)\n",
    "    X_test = X_test.transpose(0,2,3,1)\n",
    "    return (X_train, y_train), (X_test,y_test)\n",
    "\n",
    "def imshow(np_image):\n",
    "    to_show = Image.fromarray(numpy.uint8(scipy.misc.imresize(np_image,(224,224,3))))\n",
    "    to_show.show()\n",
    "\n",
    "def test():\n",
    "    # loading precomputed universal perturbations\n",
    "    path_to_dir = \"~/adversary/data/\"\n",
    "    universal_perturbations = get_precomputed_universal_perturbations(path_to_dir)\n",
    "\n",
    "    #loading cifar-10 data\n",
    "    (X_train, y_train), (X_test, y_test) = load_cifar()\n",
    "\n",
    "    #generated perturbed test set data\n",
    "    x = generate_universal_adversarial_images(X_test, universal_perturbations[0], (224,224,3))\n",
    "    imshow(x[5000])\n",
    "    imshow(universal_perturbations[0]) \n",
    "    imshow(X_test[5000])\n",
    "    "
   ]
  },
  {
   "cell_type": "code",
   "execution_count": 18,
   "metadata": {
    "collapsed": false
   },
   "outputs": [],
   "source": [
    "test()"
   ]
  },
  {
   "cell_type": "code",
   "execution_count": 8,
   "metadata": {
    "collapsed": false
   },
   "outputs": [],
   "source": [
    "import sys\n",
    "from os.path import expanduser\n",
    "\n",
    "sys.path.insert(0, expanduser('~/adversary/models'))"
   ]
  },
  {
   "cell_type": "code",
   "execution_count": 9,
   "metadata": {
    "collapsed": false
   },
   "outputs": [
    {
     "ename": "ImportError",
     "evalue": "No module named cifar10_tensorflow",
     "output_type": "error",
     "traceback": [
      "\u001b[0;31m---------------------------------------------------------------------------\u001b[0m",
      "\u001b[0;31mImportError\u001b[0m                               Traceback (most recent call last)",
      "\u001b[0;32m<ipython-input-9-ee937c3ad9d1>\u001b[0m in \u001b[0;36m<module>\u001b[0;34m()\u001b[0m\n\u001b[0;32m----> 1\u001b[0;31m \u001b[0;32mimport\u001b[0m \u001b[0mcifar10_tensorflow\u001b[0m\u001b[0;34m\u001b[0m\u001b[0m\n\u001b[0m",
      "\u001b[0;31mImportError\u001b[0m: No module named cifar10_tensorflow"
     ]
    }
   ],
   "source": [
    "import cifar10_tensorflow"
   ]
  },
  {
   "cell_type": "code",
   "execution_count": null,
   "metadata": {
    "collapsed": false
   },
   "outputs": [],
   "source": []
  },
  {
   "cell_type": "code",
   "execution_count": null,
   "metadata": {
    "collapsed": false
   },
   "outputs": [],
   "source": []
  },
  {
   "cell_type": "code",
   "execution_count": null,
   "metadata": {
    "collapsed": false
   },
   "outputs": [],
   "source": []
  },
  {
   "cell_type": "code",
   "execution_count": null,
   "metadata": {
    "collapsed": false
   },
   "outputs": [],
   "source": []
  },
  {
   "cell_type": "code",
   "execution_count": null,
   "metadata": {
    "collapsed": false
   },
   "outputs": [],
   "source": []
  },
  {
   "cell_type": "code",
   "execution_count": null,
   "metadata": {
    "collapsed": false
   },
   "outputs": [],
   "source": []
  },
  {
   "cell_type": "code",
   "execution_count": null,
   "metadata": {
    "collapsed": false
   },
   "outputs": [],
   "source": []
  },
  {
   "cell_type": "code",
   "execution_count": null,
   "metadata": {
    "collapsed": false
   },
   "outputs": [],
   "source": []
  },
  {
   "cell_type": "code",
   "execution_count": null,
   "metadata": {
    "collapsed": true
   },
   "outputs": [],
   "source": []
  }
 ],
 "metadata": {
  "anaconda-cloud": {},
  "kernelspec": {
   "display_name": "Python [default]",
   "language": "python",
   "name": "python2"
  },
  "language_info": {
   "codemirror_mode": {
    "name": "ipython",
    "version": 2
   },
   "file_extension": ".py",
   "mimetype": "text/x-python",
   "name": "python",
   "nbconvert_exporter": "python",
   "pygments_lexer": "ipython2",
   "version": "2.7.12"
  }
 },
 "nbformat": 4,
 "nbformat_minor": 1
}
