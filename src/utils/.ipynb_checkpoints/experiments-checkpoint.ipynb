{
 "cells": [
  {
   "cell_type": "code",
   "execution_count": 86,
   "metadata": {
    "collapsed": false
   },
   "outputs": [],
   "source": [
    "''' \n",
    "this conda script will call other scripts to do the follow tasks\n",
    "\n",
    "(1) have a function to load the control test set images\n",
    "(2) have a function to load the universally perturbed test set images\n",
    "(3) have a function to grab the other holdout training images\n",
    "(4) train an autoencoder with the holdout training images\n",
    "(5) have a function for testing a network on any input and output\n",
    "\n",
    "'''\n",
    "\n",
    "import numpy\n",
    "import scipy\n",
    "from scipy import ndimage\n",
    "from os.path import expanduser\n",
    "import tensorflow as tf\n",
    "from PIL import Image\n",
    "import cPickle as pickle\n",
    "import os\n",
    "import glob\n",
    "from numpy import random\n",
    "import matplotlib.pyplot as plt\n",
    "\n",
    "import sys\n",
    "sys.path.insert(0, expanduser('~/adversary/src/models'))\n",
    "sys.path.insert(0, expanduser('~/TensorFlow-Tutorials'))\n",
    "\n",
    "\n",
    "import tf_builder\n",
    "import cifar10_load\n",
    "import tf_utils"
   ]
  },
  {
   "cell_type": "code",
   "execution_count": 174,
   "metadata": {
    "collapsed": false
   },
   "outputs": [],
   "source": [
    "def extractLabels(filename):\n",
    "    labels = open(expanduser(filename));\n",
    "    labels_list = [];\n",
    "    for label in labels:\n",
    "        labels_list.append(int(label[:-1])-1);\n",
    "    return labels_list\n",
    "\n",
    "def extractData(directoryname):\n",
    "    \n",
    "    # size of image dataset\n",
    "    num_images = len(glob.glob1(expanduser(directoryname),\"*.JPEG\"))\n",
    "    # return numpy image array\n",
    "    images = []\n",
    "    images_names = []\n",
    "    \n",
    "    # for each image in directory, grab and crop and save to pickle\n",
    "    for imagefile in os.listdir(expanduser(directoryname)):\n",
    "        if(imagefile[-4:] == 'JPEG' or imagefile[-4:] == 'jpeg'):\n",
    "            image = Image.open(expanduser(directoryname + '/' + imagefile))\n",
    "            if(image.mode == 'RGB'):\n",
    "                images.append(image.copy())\n",
    "                images_names.append(imagefile)\n",
    "            image.close()\n",
    "    \n",
    "    return images, images_names\n",
    "\n",
    "def resizeSet(images):\n",
    "    resizedImages = [];\n",
    "    for image in images:\n",
    "        resizedImages.append(scipy.misc.imresize(image,(224,224,3), interp='bilinear'))\n",
    "    return resizedImages\n",
    "\n",
    "def listOfImagesToNumpy(imageList, labelList):\n",
    "    returnArray = numpy.zeros((len(imageList),3,224,224))\n",
    "    returnLabels = numpy.zeros((len(labelList),1000))\n",
    "    \n",
    "    for i in range(len(imageList)):\n",
    "        returnArray[i,:,:,:]=numpy.reshape(scipy.misc.imresize(numpy.asarray(imageList[i]),(224,224,3), interp='bilinear'), (3,224,224))\n",
    "        returnLabels[i,labelList[i]] = 1\n",
    "    \n",
    "    \n",
    "    return returnArray, returnLabels\n",
    "\n",
    "def loadControl():\n",
    "    pathname_data = '~/adversary/data/data_control'\n",
    "    pathname_label = '~/adversary/data/labels_control.txt'\n",
    "    \n",
    "    image_list, name_list = extractData(pathname_data)\n",
    "    label_list = extractLabels(pathname_label)\n",
    "    images = resizeSet(image_list)\n",
    "    \n",
    "    images_final, labels_final = listOfImagesToNumpy(images, label_list)\n",
    "    \n",
    "    return images_final, labels_final\n",
    "\n",
    "def loadUniversal():\n",
    "    pathname_data = '~/adversary/data/data_universal'\n",
    "    pathname_label = '~/adversary/data/labels_universal.txt'\n",
    "    \n",
    "    image_list, name_list = extractData(pathname_data)\n",
    "    label_list = extractLabels(pathname_label)\n",
    "    images = resizeSet(image_list)\n",
    "    \n",
    "    images_final, labels_final = listOfImagesToNumpy(images, label_list)\n",
    "    \n",
    "    return images_final, labels_final"
   ]
  },
  {
   "cell_type": "code",
   "execution_count": 173,
   "metadata": {
    "collapsed": false
   },
   "outputs": [],
   "source": [
    "image_control, label_control = loadControl()"
   ]
  },
  {
   "cell_type": "code",
   "execution_count": 175,
   "metadata": {
    "collapsed": false
   },
   "outputs": [],
   "source": [
    "image_universal, label_universal = loadUniversal()"
   ]
  },
  {
   "cell_type": "code",
   "execution_count": null,
   "metadata": {
    "collapsed": false
   },
   "outputs": [],
   "source": []
  },
  {
   "cell_type": "code",
   "execution_count": null,
   "metadata": {
    "collapsed": false
   },
   "outputs": [],
   "source": []
  },
  {
   "cell_type": "code",
   "execution_count": null,
   "metadata": {
    "collapsed": false
   },
   "outputs": [],
   "source": []
  },
  {
   "cell_type": "code",
   "execution_count": null,
   "metadata": {
    "collapsed": false
   },
   "outputs": [],
   "source": []
  },
  {
   "cell_type": "code",
   "execution_count": null,
   "metadata": {
    "collapsed": false
   },
   "outputs": [],
   "source": []
  },
  {
   "cell_type": "code",
   "execution_count": null,
   "metadata": {
    "collapsed": true
   },
   "outputs": [],
   "source": []
  }
 ],
 "metadata": {
  "anaconda-cloud": {},
  "kernelspec": {
   "display_name": "Python [conda root]",
   "language": "python",
   "name": "conda-root-py"
  },
  "language_info": {
   "codemirror_mode": {
    "name": "ipython",
    "version": 2
   },
   "file_extension": ".py",
   "mimetype": "text/x-python",
   "name": "python",
   "nbconvert_exporter": "python",
   "pygments_lexer": "ipython2",
   "version": "2.7.12"
  }
 },
 "nbformat": 4,
 "nbformat_minor": 1
}
