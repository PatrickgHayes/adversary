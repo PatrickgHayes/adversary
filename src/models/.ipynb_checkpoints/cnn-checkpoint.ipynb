{
 "cells": [
  {
   "cell_type": "code",
   "execution_count": 28,
   "metadata": {
    "collapsed": false
   },
   "outputs": [
    {
     "ename": "SyntaxError",
     "evalue": "invalid syntax (<ipython-input-28-d9e6fae4ac0d>, line 92)",
     "output_type": "error",
     "traceback": [
      "\u001b[0;36m  File \u001b[0;32m\"<ipython-input-28-d9e6fae4ac0d>\"\u001b[0;36m, line \u001b[0;32m92\u001b[0m\n\u001b[0;31m    for i % 100 == 0:\u001b[0m\n\u001b[0m                 ^\u001b[0m\n\u001b[0;31mSyntaxError\u001b[0m\u001b[0;31m:\u001b[0m invalid syntax\n"
     ]
    }
   ],
   "source": [
    "import tensorflow as tf\n",
    "import numpy\n",
    "import scipy\n",
    "import cPickle as pickle\n",
    "from keras.datasets import cifar10\n",
    "from os.path import expanduser\n",
    "\n",
    "def conv2d(x, W, b, strides = 1):\n",
    "    x = tf.nn.conv2d(x, W, strides=[1,strides,strides,1], padding='SAME')\n",
    "    x = tf.nn.bias_add(x,b)\n",
    "    return tf.nn.relu(x)\n",
    "\n",
    "def maxpool2d(x,k=2):\n",
    "    return tf.nn.max_pool(x,ksize=[1,k,k,1],strides=[1,k,k,1],padding='SAME')\n",
    "\n",
    "def create_model(x,weights,biases,dropout):\n",
    "    x = tf.reshape(x, shape=[-1,32,32,3])\n",
    "    \n",
    "    conv1 = conv2d(x,weights['wc1'],biases['bc1'])\n",
    "    conv1 = maxpool2d(conv1,k=2)\n",
    "\n",
    "    conv2 = conv2d(conv1, weights['wc2'], biases['bc2'])\n",
    "    conv2 = maxpool2d(conv2, k=2)\n",
    "    \n",
    "    weights['wd1'] = initialize_flatten_weights(conv2.get_shape().as_list(), 1024)\n",
    "    \n",
    "    fc1 = tf.reshape(conv2, [-1, weights['wd1'].get_shape().as_list()[0]])\n",
    "    fc1 = tf.add(tf.matmul(fc1, weights['wd1']), biases['bd1'])\n",
    "    fc1 = tf.nn.relu(fc1)\n",
    "    fc1 = tf.nn.dropout(fc1, dropout)\n",
    "    \n",
    "    print fc1.get_shape().as_list()\n",
    "\n",
    "    out = tf.add(tf.matmul(fc1, weights['out']), biases['out'])\n",
    "    return out\n",
    "\n",
    "def initialize_flatten_weights(input_size, output_size):\n",
    "    total_size = 1\n",
    "    for i in range(len(input_size)-1):\n",
    "        total_size = total_size * input_size[i+1]\n",
    "    return tf.Variable(tf.random_normal([total_size, output_size]))\n",
    "\n",
    "def initialize_weights():\n",
    "\n",
    "    # Store layers weight & bias\n",
    "    weights = {\n",
    "        # 5x5 conv, 1 input, 32 outputs\n",
    "        'wc1': tf.Variable(tf.random_normal([5, 5, 3, 32])),\n",
    "        # 5x5 conv, 32 inputs, 64 outputs\n",
    "        'wc2': tf.Variable(tf.random_normal([5, 5, 32, 64])),\n",
    "        # fully connected, 7*7*64 inputs, 1024 outputs\n",
    "        #'wd1': tf.Variable(tf.random_normal([12288, 1024])),\n",
    "        # 1024 inputs, 10 outputs (class prediction)\n",
    "        'out': tf.Variable(tf.random_normal([1024, n_classes]))\n",
    "    }\n",
    "\n",
    "    biases = {\n",
    "        'bc1': tf.Variable(tf.random_normal([32])),\n",
    "        'bc2': tf.Variable(tf.random_normal([64])),\n",
    "        'bd1': tf.Variable(tf.random_normal([1024])),\n",
    "        'out': tf.Variable(tf.random_normal([n_classes]))\n",
    "    }\n",
    "    \n",
    "    return weights, biases\n",
    "\n",
    "def download_cifar():\n",
    "    reshape_height = 224\n",
    "    reshape_width = 224\n",
    "    reshape_channels = 3\n",
    "    \n",
    "    (X_train, y_train), (X_test, y_test) = cifar10.load_data()\n",
    "    X_train = X_train.transpose(0,2,3,1)\n",
    "    X_test = X_test.transpose(0,2,3,1)\n",
    "    \n",
    "    X_train = X_train[0:5000,:,:,:]\n",
    "    X_test = X_test[0:1000,:,:,:]\n",
    "    y_train = y_train[0:5000]\n",
    "    y_test = y_test[0:1000]\n",
    "    \n",
    "    y_train_vector = numpy.zeros((len(y_train),10))\n",
    "    y_test_vector = numpy.zeros((len(y_test),10))\n",
    "    \n",
    "    for i in range(len(y_train)):\n",
    "        y_train_vector[i,y_train[i]] = 1\n",
    "    for i in range(len(y_test)):\n",
    "        y_test_vector[i,y_test[i]] = 1\n",
    "        \n",
    "    X_train_new = numpy.zeros((5000,reshape_height,reshape_width,reshape_channels))\n",
    "    X_test_new = numpy.zeros((1000,reshape_height,reshape_width,reshape_channels))\n",
    "        \n",
    "    for i in range(len(X_train)):\n",
    "        if i % 100 == 0:\n",
    "            print \"upsampling training image \" + str(i)\n",
    "        X_train_new[i,:,:,:] = scipy.misc.imresize(X_train[i,:,:,:], [reshape_height,reshape_width,reshape_channels])\n",
    "    \n",
    "    for i in range(len(X_test)):\n",
    "        if i % 100 == 0:\n",
    "            print \"upsampling testing image \" + str(i)\n",
    "        X_test_new[i,:,:,:] = scipy.misc.imresize(X_test[i,:,:,:], [reshape_height,reshape_width,reshape_channels])\n",
    "    \n",
    "    x = [(X_train_new, y_train_vector), (X_test_new,y_test_vector)]\n",
    "    \n",
    "    pickle.dump(x, open(expanduser(\"~/adversary/data/cifar_data.pkl\"),\"w\"))\n",
    "    \n",
    "def load_cifar():\n",
    "    print \"starting to load cifar images\"\n",
    "    x= pickle.load(open(expanduser(\"~/adversary/data/cifar_data.pkl\"),\"r\"))\n",
    "    print \"loaded cifar images\"\n",
    "    return x\n",
    "\n",
    "def run_model():\n",
    "    \n",
    "    (x_train,y_train), (x_test, y_test) = load_cifar()\n",
    "\n",
    "    x = tf.placeholder(tf.float32, [None, height, width, channels])\n",
    "    y = tf.placeholder(tf.float32, [None, n_classes])\n",
    "    keep_prob = tf.placeholder(tf.float32)\n",
    "\n",
    "    weights, biases = initialize_weights()\n",
    "    pred = create_model(x, weights, biases, keep_prob)\n",
    "\n",
    "    cost = tf.reduce_mean(tf.nn.softmax_cross_entropy_with_logits(logits=pred, labels=y))\n",
    "    optimizer = tf.train.AdamOptimizer(learning_rate=learning_rate).minimize(cost)\n",
    "\n",
    "    # Evaluate model\n",
    "    correct_pred = tf.equal(tf.argmax(pred, 1), tf.argmax(y, 1))\n",
    "    accuracy = tf.reduce_mean(tf.cast(correct_pred, tf.float32))\n",
    "\n",
    "    # Initializing the variables\n",
    "    init = tf.initialize_all_variables()\n",
    "\n",
    "    # Launch the graph\n",
    "    with tf.Session() as sess:\n",
    "        sess.run(init)\n",
    "        \n",
    "        for i in range(epochs):\n",
    "            step = 1\n",
    "            # Keep training until reach max iterations\n",
    "            while step * batch_size < training_iters:\n",
    "                batch_x, batch_y = x_train[(step-1)*batch_size:step*batch_size], y_train[(step-1)*batch_size:step*batch_size]\n",
    "                # Run optimization op (backprop)\n",
    "                sess.run(optimizer, feed_dict={x: batch_x, y: batch_y,\n",
    "                                               keep_prob: dropout})\n",
    "                if step % display_step == 0:\n",
    "                    # Calculate batch loss and accuracy\n",
    "                    loss, acc = sess.run([cost, accuracy], feed_dict={x: batch_x,\n",
    "                                                                      y: batch_y,\n",
    "                                                                      keep_prob: 1.})\n",
    "                    print(\"Iter \" + str(step*batch_size) + \", Minibatch Loss= \" + \\\n",
    "                          \"{:.6f}\".format(loss) + \", Training Accuracy= \" + \\\n",
    "                          \"{:.5f}\".format(acc))\n",
    "                step += 1\n",
    "            print(\"Optimization Finished!\")\n",
    "\n",
    "            # Calculate accuracy for 256 mnist test images\n",
    "            print(\"Testing Accuracy:\", \\\n",
    "                sess.run(accuracy, feed_dict={x: x_test,\n",
    "                                              y: y_test,\n",
    "                                              keep_prob: 1.}))   \n"
   ]
  },
  {
   "cell_type": "code",
   "execution_count": 2,
   "metadata": {
    "collapsed": false
   },
   "outputs": [
    {
     "ename": "KeyboardInterrupt",
     "evalue": "",
     "output_type": "error",
     "traceback": [
      "\u001b[0;31m---------------------------------------------------------------------------\u001b[0m",
      "\u001b[0;31mKeyboardInterrupt\u001b[0m                         Traceback (most recent call last)",
      "\u001b[0;32m<ipython-input-2-e76350ce8cd6>\u001b[0m in \u001b[0;36m<module>\u001b[0;34m()\u001b[0m\n\u001b[1;32m     10\u001b[0m \u001b[0mdisplay_step\u001b[0m \u001b[0;34m=\u001b[0m \u001b[0;36m10\u001b[0m\u001b[0;34m\u001b[0m\u001b[0m\n\u001b[1;32m     11\u001b[0m \u001b[0;34m\u001b[0m\u001b[0m\n\u001b[0;32m---> 12\u001b[0;31m \u001b[0mrun_model\u001b[0m\u001b[0;34m(\u001b[0m\u001b[0;34m)\u001b[0m\u001b[0;34m\u001b[0m\u001b[0m\n\u001b[0m",
      "\u001b[0;32m<ipython-input-1-70ff552af994>\u001b[0m in \u001b[0;36mrun_model\u001b[0;34m()\u001b[0m\n\u001b[1;32m     98\u001b[0m \u001b[0;32mdef\u001b[0m \u001b[0mrun_model\u001b[0m\u001b[0;34m(\u001b[0m\u001b[0;34m)\u001b[0m\u001b[0;34m:\u001b[0m\u001b[0;34m\u001b[0m\u001b[0m\n\u001b[1;32m     99\u001b[0m \u001b[0;34m\u001b[0m\u001b[0m\n\u001b[0;32m--> 100\u001b[0;31m     \u001b[0;34m(\u001b[0m\u001b[0mx_train\u001b[0m\u001b[0;34m,\u001b[0m\u001b[0my_train\u001b[0m\u001b[0;34m)\u001b[0m\u001b[0;34m,\u001b[0m \u001b[0;34m(\u001b[0m\u001b[0mx_test\u001b[0m\u001b[0;34m,\u001b[0m \u001b[0my_test\u001b[0m\u001b[0;34m)\u001b[0m \u001b[0;34m=\u001b[0m \u001b[0mload_cifar\u001b[0m\u001b[0;34m(\u001b[0m\u001b[0;34m)\u001b[0m\u001b[0;34m\u001b[0m\u001b[0m\n\u001b[0m\u001b[1;32m    101\u001b[0m \u001b[0;34m\u001b[0m\u001b[0m\n\u001b[1;32m    102\u001b[0m     \u001b[0mx\u001b[0m \u001b[0;34m=\u001b[0m \u001b[0mtf\u001b[0m\u001b[0;34m.\u001b[0m\u001b[0mplaceholder\u001b[0m\u001b[0;34m(\u001b[0m\u001b[0mtf\u001b[0m\u001b[0;34m.\u001b[0m\u001b[0mfloat32\u001b[0m\u001b[0;34m,\u001b[0m \u001b[0;34m[\u001b[0m\u001b[0mNone\u001b[0m\u001b[0;34m,\u001b[0m \u001b[0mheight\u001b[0m\u001b[0;34m,\u001b[0m \u001b[0mwidth\u001b[0m\u001b[0;34m,\u001b[0m \u001b[0mchannels\u001b[0m\u001b[0;34m]\u001b[0m\u001b[0;34m)\u001b[0m\u001b[0;34m\u001b[0m\u001b[0m\n",
      "\u001b[0;32m<ipython-input-1-70ff552af994>\u001b[0m in \u001b[0;36mload_cifar\u001b[0;34m()\u001b[0m\n\u001b[1;32m     93\u001b[0m \u001b[0;34m\u001b[0m\u001b[0m\n\u001b[1;32m     94\u001b[0m \u001b[0;32mdef\u001b[0m \u001b[0mload_cifar\u001b[0m\u001b[0;34m(\u001b[0m\u001b[0;34m)\u001b[0m\u001b[0;34m:\u001b[0m\u001b[0;34m\u001b[0m\u001b[0m\n\u001b[0;32m---> 95\u001b[0;31m     \u001b[0mx\u001b[0m\u001b[0;34m=\u001b[0m \u001b[0mpickle\u001b[0m\u001b[0;34m.\u001b[0m\u001b[0mload\u001b[0m\u001b[0;34m(\u001b[0m\u001b[0mopen\u001b[0m\u001b[0;34m(\u001b[0m\u001b[0mexpanduser\u001b[0m\u001b[0;34m(\u001b[0m\u001b[0;34m\"~/adversary/data/cifar_data.pkl\"\u001b[0m\u001b[0;34m)\u001b[0m\u001b[0;34m,\u001b[0m\u001b[0;34m\"r\"\u001b[0m\u001b[0;34m)\u001b[0m\u001b[0;34m)\u001b[0m\u001b[0;34m\u001b[0m\u001b[0m\n\u001b[0m\u001b[1;32m     96\u001b[0m     \u001b[0;32mreturn\u001b[0m \u001b[0mx\u001b[0m\u001b[0;34m\u001b[0m\u001b[0m\n\u001b[1;32m     97\u001b[0m \u001b[0;34m\u001b[0m\u001b[0m\n",
      "\u001b[0;31mKeyboardInterrupt\u001b[0m: "
     ]
    }
   ],
   "source": [
    "height = 32\n",
    "width = 32\n",
    "channels = 3\n",
    "n_classes = 10\n",
    "batch_size = 128\n",
    "dropout = 1.0\n",
    "learning_rate = 0.001\n",
    "training_iters = 5000\n",
    "epochs = 10\n",
    "display_step = 10\n",
    "\n",
    "run_model()"
   ]
  },
  {
   "cell_type": "code",
   "execution_count": null,
   "metadata": {
    "collapsed": false
   },
   "outputs": [],
   "source": [
    "download_cifar()"
   ]
  },
  {
   "cell_type": "code",
   "execution_count": null,
   "metadata": {
    "collapsed": false
   },
   "outputs": [],
   "source": [
    "x=load_cifar()"
   ]
  },
  {
   "cell_type": "code",
   "execution_count": null,
   "metadata": {
    "collapsed": false
   },
   "outputs": [],
   "source": [
    "x[0][0].shape"
   ]
  },
  {
   "cell_type": "code",
   "execution_count": null,
   "metadata": {
    "collapsed": false
   },
   "outputs": [],
   "source": []
  },
  {
   "cell_type": "code",
   "execution_count": null,
   "metadata": {
    "collapsed": true
   },
   "outputs": [],
   "source": []
  }
 ],
 "metadata": {
  "anaconda-cloud": {},
  "kernelspec": {
   "display_name": "Python [default]",
   "language": "python",
   "name": "python2"
  },
  "language_info": {
   "codemirror_mode": {
    "name": "ipython",
    "version": 2
   },
   "file_extension": ".py",
   "mimetype": "text/x-python",
   "name": "python",
   "nbconvert_exporter": "python",
   "pygments_lexer": "ipython2",
   "version": "2.7.12"
  }
 },
 "nbformat": 4,
 "nbformat_minor": 1
}
