{
 "cells": [
  {
   "cell_type": "code",
   "execution_count": 7,
   "metadata": {
    "collapsed": false
   },
   "outputs": [
    {
     "name": "stderr",
     "output_type": "stream",
     "text": [
      "Using Theano backend.\n",
      "Using gpu device 0: GeForce GTX 1080 (CNMeM is disabled, cuDNN 5105)\n",
      "/home/davis/anaconda2/lib/python2.7/site-packages/theano/sandbox/cuda/__init__.py:600: UserWarning: Your cuDNN version is more recent than the one Theano officially supports. If you see any problems, try updating Theano or downgrading cuDNN to version 5.\n",
      "  warnings.warn(warn)\n"
     ]
    }
   ],
   "source": [
    "from os.path import expanduser\n",
    "import numpy\n",
    "import scipy\n",
    "import tensorflow as tf\n",
    "from scipy.io import loadmat\n",
    "import os\n",
    "from keras.datasets import cifar10\n",
    "import matplotlib.pyplot as plt\n",
    "from PIL import Image\n",
    "%matplotlib inline"
   ]
  },
  {
   "cell_type": "code",
   "execution_count": 8,
   "metadata": {
    "collapsed": false
   },
   "outputs": [],
   "source": [
    "def get_precomputed_universal_perturbations(path_to_dir):\n",
    "    universal=[]\n",
    "    for filename in os.listdir(expanduser(path_to_dir)):\n",
    "        if filename[-4:] == '.mat':\n",
    "            universal.append(loadmat(expanduser(path_to_dir+str(filename)))['r'])\n",
    "    return universal\n",
    "\n",
    "def generate_universal_adversarial_images(data, perturbation, imshape):\n",
    "    if(len(imshape)!= 3): return \n",
    "    perturbed_images = numpy.zeros((len(data),imshape[0],imshape[1],imshape[2]))\n",
    "    for i in range(len(data)):\n",
    "        currImage = scipy.misc.imresize(data[i,:,:,:],imshape)\n",
    "        perturbed_images[i,:,:,:] = perturbation*1.0 + currImage*1.0\n",
    "    return perturbed_images\n",
    "        \n",
    "def load_cifar():\n",
    "    (X_train, y_train), (X_test, y_test) = cifar10.load_data()\n",
    "    X_train = X_train.transpose(0,2,3,1)\n",
    "    X_test = X_test.transpose(0,2,3,1)\n",
    "    return (X_train, y_train), (X_test,y_test)\n",
    "\n",
    "def imshow(np_image):\n",
    "    to_show = Image.fromarray(numpy.uint8(scipy.misc.imresize(np_image,(224,224,3))))\n",
    "    return to_show\n",
    "\n",
    "def test():\n",
    "    # loading precomputed universal perturbations\n",
    "    path_to_dir = \"~/adversary/data/\"\n",
    "    universal_perturbations = get_precomputed_universal_perturbations(path_to_dir)\n",
    "\n",
    "    #loading cifar-10 data\n",
    "    (X_train, y_train), (X_test, y_test) = load_cifar()\n",
    "\n",
    "    #generated perturbed test set data\n",
    "    x = generate_universal_adversarial_images(X_test, universal_perturbations[0], (224,224,3))\n",
    "    imshow(x[5000])\n",
    "    imshow(universal_perturbations[0])\n",
    "    imshow(X_test[5000])\n",
    "    "
   ]
  },
  {
   "cell_type": "code",
   "execution_count": 9,
   "metadata": {
    "collapsed": false
   },
   "outputs": [],
   "source": [
    "test()"
   ]
  },
  {
   "cell_type": "code",
   "execution_count": null,
   "metadata": {
    "collapsed": false
   },
   "outputs": [],
   "source": []
  },
  {
   "cell_type": "code",
   "execution_count": null,
   "metadata": {
    "collapsed": false
   },
   "outputs": [],
   "source": []
  },
  {
   "cell_type": "code",
   "execution_count": null,
   "metadata": {
    "collapsed": false
   },
   "outputs": [],
   "source": []
  },
  {
   "cell_type": "code",
   "execution_count": null,
   "metadata": {
    "collapsed": false
   },
   "outputs": [],
   "source": []
  },
  {
   "cell_type": "code",
   "execution_count": null,
   "metadata": {
    "collapsed": false
   },
   "outputs": [],
   "source": []
  },
  {
   "cell_type": "code",
   "execution_count": null,
   "metadata": {
    "collapsed": false
   },
   "outputs": [],
   "source": []
  },
  {
   "cell_type": "code",
   "execution_count": null,
   "metadata": {
    "collapsed": false
   },
   "outputs": [],
   "source": []
  },
  {
   "cell_type": "code",
   "execution_count": null,
   "metadata": {
    "collapsed": false
   },
   "outputs": [],
   "source": []
  },
  {
   "cell_type": "code",
   "execution_count": null,
   "metadata": {
    "collapsed": false
   },
   "outputs": [],
   "source": []
  },
  {
   "cell_type": "code",
   "execution_count": null,
   "metadata": {
    "collapsed": false
   },
   "outputs": [],
   "source": []
  },
  {
   "cell_type": "code",
   "execution_count": null,
   "metadata": {
    "collapsed": true
   },
   "outputs": [],
   "source": []
  }
 ],
 "metadata": {
  "anaconda-cloud": {},
  "kernelspec": {
   "display_name": "Python [default]",
   "language": "python",
   "name": "python2"
  },
  "language_info": {
   "codemirror_mode": {
    "name": "ipython",
    "version": 2
   },
   "file_extension": ".py",
   "mimetype": "text/x-python",
   "name": "python",
   "nbconvert_exporter": "python",
   "pygments_lexer": "ipython2",
   "version": "2.7.12"
  }
 },
 "nbformat": 4,
 "nbformat_minor": 1
}
